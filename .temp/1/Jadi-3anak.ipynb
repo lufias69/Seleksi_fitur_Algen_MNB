{
 "cells": [
  {
   "cell_type": "code",
   "execution_count": 2,
   "metadata": {},
   "outputs": [],
   "source": [
    "import pandas as pd\n",
    "import numpy as np\n",
    "from Lib import Algen_lib as lib"
   ]
  },
  {
   "cell_type": "markdown",
   "metadata": {},
   "source": [
    "# Load Data"
   ]
  },
  {
   "cell_type": "code",
   "execution_count": 4,
   "metadata": {},
   "outputs": [
    {
     "data": {
      "text/plain": [
       "1143"
      ]
     },
     "execution_count": 4,
     "metadata": {},
     "output_type": "execute_result"
    }
   ],
   "source": [
    "#Data Latih\n",
    "df = pd.read_excel('data/sms_clean_norm_+_new_data_3.xlsx')\n",
    "\n",
    "corpusA = df.sms.tolist()\n",
    "labelA = df.label.tolist()\n",
    "len(df)"
   ]
  },
  {
   "cell_type": "markdown",
   "metadata": {},
   "source": [
    "# Ekstraksi Fitur"
   ]
  },
  {
   "cell_type": "code",
   "execution_count": 5,
   "metadata": {},
   "outputs": [],
   "source": [
    "fitur = lib.feature_extraction(corpusA)"
   ]
  },
  {
   "cell_type": "markdown",
   "metadata": {},
   "source": [
    "# Seleksi Fitur Menggunaka Algoritma Genetika"
   ]
  },
  {
   "cell_type": "code",
   "execution_count": 13,
   "metadata": {},
   "outputs": [
    {
     "name": "stdout",
     "output_type": "stream",
     "text": [
      "fitness all features: 0.9353126405757984\n",
      "50 | 50\n",
      "-------------------------\n",
      "Generasi ke 1 [Terbaik]\n",
      "    0.920400359874044\n",
      "    ******************** 3284 / 4378 -> 4378 | 1\n",
      "    0.926563202878992\n",
      "    ******************** 3309 / 4378 -> 4378 | 1\n",
      "    0.9212550607287451\n",
      "    ******************** 2227 / 4378 -> 4378 | 1\n",
      "    0.9195006747638323\n",
      "    ******************** 3261 / 4378 -> 4378 | 1\n",
      "    0.9247863247863246\n",
      "    ******************** 3270 / 4378 -> 4378 | 1\n",
      "    0.926540710751237\n",
      "    ******************** 3272 / 4378 -> 4378 | 1\n",
      "    0.9273504273504272\n",
      "    ******************** 3303 / 4378 -> 4378 | 1\n",
      "    0.9230319388214123\n",
      "    ******************** 3247 / 4378 -> 4378 | 1\n",
      "    0.923009446693657\n",
      "    ******************** 3289 / 4378 -> 4378 | 1\n",
      "    0.9335357624831305\n",
      "    ******************** 3296 / 4378 -> 4378 | 1\n",
      "    0.9273729194781825\n",
      "    ******************** 3286 / 4378 -> 4378 | 1\n",
      "    0.9220872694556902\n",
      "    ******************** 2191 / 4378 -> 4378 | 1\n",
      "    0.9273729194781823\n",
      "    ******************** 3274 / 4378 -> 4378 | 1\n",
      "    0.9282950967161491\n",
      "    ******************** 3265 / 4378 -> 4378 | 1\n",
      "    0.9256860098965359\n",
      "    ******************** 3310 / 4378 -> 4378 | 1\n",
      "    0.9361448493027441\n",
      "    ******************** 3298 / 4378 -> 4378 | 1\n",
      "    0.922222222222222\n",
      "    ******************** 3258 / 4378 -> 4378 | 1\n",
      "    0.9291497975708501\n",
      "    ******************** 3336 / 4378 -> 4378 | 1\n",
      "    0.92480881691408\n",
      "    ******************** 3253 / 4378 -> 4378 | 1\n",
      "    0.9195006747638328\n",
      "    ******************** 3237 / 4378 -> 4378 | 1\n",
      "    0.9178137651821864\n",
      "    ******************** 2239 / 4378 -> 4378 | 1\n",
      "    0.9291497975708499\n",
      "    ******************** 3256 / 4378 -> 4378 | 1\n",
      "    0.9353126405757984\n",
      "    ******************** 4378 / 4378 -> 4378 | 1\n",
      "    0.9265632028789921\n",
      "    ******************** 3319 / 4378 -> 4378 | 1\n",
      "    0.922986954565902\n",
      "    ******************** 3277 / 4378 -> 4378 | 1\n",
      "-------------------------\n",
      "Generasi ke 2 [Terbaik]\n",
      "    0.9353126405757984\n",
      "    ******************** 4378 / 4378 -> 4378 | 2\n",
      "    0.9273729194781823\n",
      "    ******************** 3274 / 4378 -> 4378 | 2\n",
      "    0.9256860098965359\n",
      "    ******************** 3310 / 4378 -> 4378 | 2\n",
      "    0.9291497975708499\n",
      "    ******************** 3256 / 4378 -> 4378 | 2\n",
      "    0.9273729194781825\n",
      "    ******************** 3286 / 4378 -> 4378 | 2\n",
      "    0.9361448493027441\n",
      "    ******************** 3298 / 4378 -> 4378 | 2\n",
      "    0.9273504273504272\n",
      "    ******************** 3303 / 4378 -> 4378 | 2\n",
      "    0.9265632028789921\n",
      "    ******************** 3319 / 4378 -> 4378 | 2\n",
      "    0.922222222222222\n",
      "    ******************** 3258 / 4378 -> 4378 | 2\n",
      "    0.9344579397210977\n",
      "    ******************** 3536 / 4378 -> 4378 | 2\n",
      "    0.9238866396761132\n",
      "    ******************** 3262 / 4378 -> 4378 | 2\n",
      "    0.9317813765182186\n",
      "    ******************** 3273 / 4378 -> 4378 | 2\n",
      "    0.9291497975708501\n",
      "    ******************** 3336 / 4378 -> 4378 | 2\n",
      "-------------------------\n",
      "Generasi ke 3 [Terbaik]\n",
      "    0.9361448493027441\n",
      "    ******************** 3298 / 4378 -> 4378 | 3\n",
      "    0.9317813765182186\n",
      "    ******************** 3273 / 4378 -> 4378 | 3\n",
      "    0.9344129554655869\n",
      "    ******************** 3581 / 4378 -> 4378 | 3\n",
      "    0.9353126405757984\n",
      "    ******************** 4378 / 4378 -> 4378 | 3\n",
      "    0.9291497975708499\n",
      "    ******************** 3256 / 4378 -> 4378 | 3\n",
      "    0.9344579397210977\n",
      "    ******************** 3536 / 4378 -> 4378 | 3\n",
      "    0.9353126405757984\n",
      "    ******************** 4378 / 4378 -> 4378 | 3\n",
      "-------------------------\n",
      "Generasi ke 4 [Terbaik]\n",
      "    0.9353126405757984\n",
      "    ******************** 4378 / 4378 -> 4378 | 4\n",
      "    0.9344129554655869\n",
      "    ******************** 3581 / 4378 -> 4378 | 4\n",
      "    0.9353126405757984\n",
      "    ******************** 4378 / 4378 -> 4378 | 4\n",
      "    0.9361448493027441\n",
      "    ******************** 3298 / 4378 -> 4378 | 4\n",
      "-------------------------\n",
      "Generasi ke 5 [Terbaik]\n",
      "    0.9361448493027441\n",
      "    ******************** 3298 / 4378 -> 4378 | 5\n",
      "    0.9353126405757984\n",
      "    ******************** 4378 / 4378 -> 4378 | 5\n",
      "-------------------------\n",
      "Generasi ke 6 [Terbaik]\n",
      "    0.9361448493027441\n",
      "    ******************** 3298 / 4378 -> 4378 | 6\n",
      "======================================================================\n",
      "Best 0.9361448493027441\n",
      "jumlah fitur      3298\n",
      "jumlah fitur asli 4378\n",
      "good_fitur\n"
     ]
    }
   ],
   "source": [
    "jumlah_populasi = 50\n",
    "jumlah_point = 1000 #jumlah titik point crossover\n",
    "prob_mutasi = 0.2 #probabilitas permutasi\n",
    "\n",
    "K=30\n",
    "\n",
    "metode = \"tfidf\"\n",
    "\n",
    "alpha = 1\n",
    "target = 0.99 #target akurasi\n",
    "\n",
    "panjang_fitur = len(fitur)\n",
    "\n",
    "features_1_bin = [1 for i in range(panjang_fitur)]\n",
    "pop = lib.create_population(jumlah_populasi-1, panjang_fitur)\n",
    "pop.append(features_1_bin)\n",
    "\n",
    "fns_1 = lib.fitness_kf(corpusA, labelA, features_1_bin, fitur, alpha = alpha, metode = metode, K=K)\n",
    "print(\"fitness all features:\",fns_1)\n",
    "\n",
    "fitnes_pop = list()\n",
    "# temp_features_fitness = list()\n",
    "for features_bin in pop:\n",
    "    fns = lib.fitness_kf(corpusA, labelA, features_bin, fitur, alpha = alpha, metode = metode, K=K)\n",
    "    fitnes_pop.append(fns)\n",
    "#     temp_features_fitness.append([fns, features_bin])\n",
    "# fitnes_pop.append(fns_1)\n",
    "\n",
    "print(len(fitnes_pop),\"|\",len(pop))\n",
    "\n",
    "pop_used = dict()\n",
    "popp_0 = list(pop)\n",
    "for p, fit in zip(popp_0, fitnes_pop):\n",
    "    bin_str = lib.int_to_str(p) \n",
    "    pop_used.update({bin_str:fit})\n",
    "\n",
    "# print(\"\")\n",
    "    \n",
    "# print(pop[0])\n",
    "\n",
    "best_fitur_list = list()\n",
    "best_fitness_list = list()\n",
    "best_generasi_list = list()\n",
    "\n",
    "best_jumlah_fitur_list = list()\n",
    "\n",
    "# save_aja = list()\n",
    "\n",
    "gen=0\n",
    "while True:\n",
    "    gen+=1\n",
    "    print(\"-\"*25)\n",
    "    print(\"Generasi ke\",gen , \"[Terbaik]\")\n",
    "    rw = lib.get_roulette_wheel_(fitnes_pop, inc=jumlah_populasi)\n",
    "    parents = lib.select_parents(rw)\n",
    "\n",
    "    best_fitur_list_per_generasi = list()\n",
    "    best_fitness_list_per_generasi = list()\n",
    "    for p in parents:\n",
    "        best_generasi_list.append(gen)\n",
    "        family_fitness=list()\n",
    "        family_fitur=list()\n",
    "\n",
    "        mama_index = p[0]\n",
    "        papa_index = p[1]\n",
    "        \n",
    "        m4ms = fitnes_pop[mama_index]\n",
    "        family_fitness.append(m4ms)\n",
    "        m4mr = list(pop[mama_index])\n",
    "        family_fitur.append(m4mr)\n",
    "#         best_jumlah_fitur_list.append(sum(m4mr))\n",
    "        \n",
    "        p4ps = fitnes_pop[papa_index]\n",
    "        family_fitness.append(p4ps)\n",
    "        p4pr = list(pop[papa_index])\n",
    "        family_fitur.append(p4pr)\n",
    "#         best_jumlah_fitur_list.append(sum(p4pr))\n",
    "        \n",
    "        #crossover dan mutasi\n",
    "        bin_mama = list(pop[mama_index])\n",
    "        bin_papa = list(pop[papa_index])\n",
    "        anak_binary = lib.crossover(bin_mama, bin_papa, panjang_fitur,  jumlah_point = jumlah_point, prob_mutasi = prob_mutasi)\n",
    "        \n",
    "        #mencari fitness untuk child\n",
    "        a1 = anak_binary[0]\n",
    "        a2 = anak_binary[1]\n",
    "        a3 = anak_binary[2]\n",
    "#         print(a2)\n",
    "        \n",
    "        if sum(a1)<=0:\n",
    "            a1[-1]=1\n",
    "            a1[-2]=1\n",
    "        if sum(a2)<=0:\n",
    "            a2[-1]=1\n",
    "            a2[-2]=1\n",
    "        if sum(a3)<=0:\n",
    "            a3[-1]=1\n",
    "            a3[-2]=1\n",
    "\n",
    "        str_a1 = lib.int_to_str(a1)\n",
    "        if str_a1 in pop_used:\n",
    "            family_fitur.append(a1)\n",
    "            family_fitness.append(pop_used[str_a1])\n",
    "#             best_jumlah_fitur_list.append(sum(a1))\n",
    "            \n",
    "        else:\n",
    "            family_fitur.append(a1)\n",
    "            fitness_anak_1 = lib.fitness_kf(corpusA, labelA, a1, fitur, alpha = alpha, metode = metode, K=K)\n",
    "            family_fitness.append(fitness_anak_1)\n",
    "            pop_used.update({str_a1:fitness_anak_1})\n",
    "#             best_jumlah_fitur_list.append(sum(a1))\n",
    "            \n",
    "        str_a2 = lib.int_to_str(a2)\n",
    "        if str_a2 in pop_used:\n",
    "            family_fitur.append(a2)\n",
    "            family_fitness.append(pop_used[str_a2])\n",
    "#             best_jumlah_fitur_list.append(sum(a2))\n",
    "        else:\n",
    "            family_fitur.append(a2)\n",
    "            fitness_anak_2 = lib.fitness_kf(corpusA, labelA, a2, fitur, alpha = alpha, metode = metode, K=K)\n",
    "            family_fitness.append(fitness_anak_2)\n",
    "            pop_used.update({str_a2:fitness_anak_2})\n",
    "#             best_jumlah_fitur_list.append(sum(a2))\n",
    "            \n",
    "        str_a3 = lib.int_to_str(a3)\n",
    "        if str_a3 in pop_used:\n",
    "            family_fitur.append(a3)\n",
    "            family_fitness.append(pop_used[str_a3])\n",
    "#             best_jumlah_fitur_list.append(sum(a3))\n",
    "        else:\n",
    "            family_fitur.append(a3)\n",
    "            fitness_anak_3 = lib.fitness_kf(corpusA, labelA, a3, fitur, alpha = alpha, metode = metode, K=K)\n",
    "            family_fitness.append(fitness_anak_3)\n",
    "            pop_used.update({str_a3:fitness_anak_3})\n",
    "#             best_jumlah_fitur_list.append(sum(a3))\n",
    "\n",
    "        \n",
    "        #mencari fitness terbaik untuk satu keluarga\n",
    "        best_family_fitness = max(family_fitness)\n",
    "        bf_index = family_fitness.index(best_family_fitness)\n",
    "        best_family_fitur = family_fitur[bf_index]\n",
    "\n",
    "        best_fitness_list.append(best_family_fitness)\n",
    "        best_fitur_list.append(best_family_fitur)\n",
    "\n",
    "        best_fitness_list_per_generasi.append(best_family_fitness)\n",
    "        best_fitur_list_per_generasi.append(best_family_fitur)\n",
    "        best_jumlah_fitur_list.append(sum(best_family_fitur))\n",
    "\n",
    "        print(\"   \",best_family_fitness)\n",
    "        print(\"   \",\"*\"*20,sum(best_family_fitur),\"/\",len(best_family_fitur),\"->\",panjang_fitur,\"|\",gen)\n",
    "\n",
    "    pop = list(best_fitur_list_per_generasi)\n",
    "#     pop.append(features_1_bin)\n",
    "    fitnes_pop = list(best_fitness_list_per_generasi)\n",
    "#     fitnes_pop.append(fns_1)\n",
    "\n",
    "    if len(pop)<2 or max(best_fitness_list)>=target:\n",
    "        print(\"=\"*70)\n",
    "        print(\"Best\",max(best_fitness_list))\n",
    "#         print(\"Generasi ke-\",best_generasi_list[best_fitness_list.index(max(best_fitness_list))])\n",
    "        good_fitur = best_fitur_list[best_fitness_list.index(max(best_fitness_list))]\n",
    "        best_fitness_list.index(max(best_fitness_list))\n",
    "        print('jumlah fitur     ', sum(good_fitur))\n",
    "        print('jumlah fitur asli', panjang_fitur)\n",
    "        print('good_fitur')\n",
    "        break"
   ]
  },
  {
   "cell_type": "code",
   "execution_count": 44,
   "metadata": {},
   "outputs": [
    {
     "data": {
      "text/plain": [
       "0.9413944343617666"
      ]
     },
     "execution_count": 44,
     "metadata": {},
     "output_type": "execute_result"
    }
   ],
   "source": [
    "#Testing\n",
    "hasil_seleksi_fitur = good_fitur\n",
    "lib.fitness_kf(corpusA, labelA, hasil_seleksi_fitur, fitur, alpha = alpha, metode = metode, K=K)"
   ]
  },
  {
   "cell_type": "code",
   "execution_count": 25,
   "metadata": {},
   "outputs": [
    {
     "name": "stdout",
     "output_type": "stream",
     "text": [
      "0, 000, 000untuk, 001, 0016282190254447, 0016282333306308, 0016282336033777, 0016285286552555, 001948, 002218, 0035, 0065, 0074, 01, 0100, 0101, 01016, 01123190427523627, 012786, 018801, 02, 021, 02129657333, 02136146799, 02152971540, 0215649770, 0215891174, 02199545139, 0226, 0231327xxx, 024, 02599875, 02749447574, 0277285682, 0282566132, 03, 0385, 04, 0544, 06, 076, 08, 0809, 081215008228, 081218844557, 081218986001, 081219550857, 081223052854, 081281108799, 0812xxxxxxx, 081310537888, 081310xx, 081316005639, 081316523061, 081316899123, 081330134449, 081356256931, 081389909777, 081571xxx, 081584650877, 081586769255, 0815xxxxxxx, 0816288602, 0818433247, 0818643929, 081931753240, 0819882923, 082, 0821, 082110001021, 082122483312, 082127377377, 082133271400, 082189983017, 082193609797, 0823, 082310204777, 082319733334, 082325557768, 082327327705, 082328823345, 082329676767, 082374432257, 082374910777, 083139195872, 085104894998, 0852, 085215113xxx, 085216181177, 085217845777, 085217984299, 085221118517, 0852212xxxxx, 085222999475, 085234234117, 085245780079, 085256144059, 085280948777, 085285485509, 085285485839, 085293355598, 0852952xxxxx, 0853, 08531166, 085312792222, 085316079211, 085318303276, 085318655616, 085322222699, 085323048677, 085325556742, 085325557999, 085335875777, 085340781778, 085347398779, 085352444400, 085377177138, 085377771822, 085399700354, 08562115779, 085624347737, 08562xxxxxx, 085643xxxxxx, 085687329010, 085691371116, 085693577707, 085710489257, 085714664427, 085715186696, 085717559229, 085729791456, 085741670427, 085743146233, 085776973349, 085777779458, 085794074188, 085796022225, 085797136879, 085798428715, 085828523888, 08606490199, 087738718255, 087739124242, 0877399155579, 087775777917, 087789917018, 087822962308, 087870870707, 087888366677, 087888869297, 0881, 0895, 089606490199, 089636298565, 089643122237, 089653382227, 089655264130, 089660608887, 089664054777, 089667794299, 08966xxx, 089676547727, 08968594aaaa, 0897, 089772xxxxx, 08977628977, 08994150xxx, 08994179888a, 08994352577, 08996913677, 08xxxxxx, 1, 10, 100, 1000, 1000mnt, 1000sms, 1002402, 100jt, 100mb, 100mnt, 100rb, 100sms, 1010, 10gb, 10k, 10ribu, 10x, 11, 111, 1111, 1172, 11inch, 12, 1234, 12345, 1236312, 125rb, 128gb, 12kg, 12xb9v2, 13, 131, 136, 13jan, 140, 145, 149rb, 15, 150, 1500300, 1500366, 150jt, 152, 1572, 15aug2013, 15jui, 15mb, 15rb, 15rebu, 16, 16gb, 16rb, 17, 1708, 175mb, 1777, 1790103904, 17rb, 18, 1839, 1855, 1888, 18rb, 19, 190, 191, 198, 19rb, 1an, 1chip, 1hr, 1jt, 1kali, 1lnzh4p0lcm7rug, 1minggu, 1unit, 1x, 1x24, 2, 20, 200, 20000, 2004, 2011, 2012, 2013, 2014, 2015, 2016, 2017, 20ewu, 20gb, 20jun13, 20menit, 20point, 20ribu, 20ribuan, 21des, 22, 2200, 22000, 225mb, 22agt, 22nya, 23, 23867047, 23867048, 23rb, 24, 247, 25, 250, 2500, 2500poin, 250mb, 250rb, 2542, 2547afr, 25a1785b, 25a4ff8c, 25aug, 25e477r, 25efg477r, 25g47jk, 25rb, 25ribu, 25sept, 2731, 27514362, 277fg49, 27jt, 27tdn55, 28, 282f4c55, 28ab8391, 28bddf4d, 290rb, 2952149xxx, 295c6d02, 29762d76, 297ccfa7, 299, 29feb16, 2a03f3f2, 2a550530, 2a6fb800e, 2a95596a, 2a96de82, 2aiu87e, 2an, 2c6jsxn, 2d7id99, 2dari, 2f54e7, 2f5c477, 2g43f79, 2gb, 2jam, 2jt, 2rb, 2th, 2x, 2x24jam, 3, 30, 300, 30hari, 30hr, 30ribu, 30seorang, 31, 3173, 32gb, 33, 33333, 3338, 335555, 33636, 3377, 33c7, 34, 342877938, 3433, 34343669, 345, 349, 35, 35417, 3591, 35jt, 35juta, 35rb, 36, 363, 3636, 37, 3918, 39xv544f, 3bln, 3card, 3care, 3care16, 3care2015, 3care2016, 3careindonesia, 3g, 3hr, 3info, 3jan, 3jt, 3kg, 3ramadhan, 3simcard, 3tricard, 3x, 4, 40, 400, 4000, 40161777, 40186483, 40467488, 408, 41000795569091, 43, 433, 43rb, 4413, 4500, 4506, 454, 454647lm, 45jt, 45juta, 45rb, 46, 471, 473, 477bfg7s, 477fbg7s, 478kb, 47bl759, 48rb, 49, 49jt, 4d, 4g, 4gb, 4gm, 4jt, 4x, 5, 50, 500, 50000, 5000poin, 500mb, 500rb, 5019, 502, 503, 504, 5094, 50mb, 50rb, 53, 532, 534, 54205, 545, 55, 5500248418, 555, 557, 57, 577, 5829, 59, 5gb, 5jt, 5mb, 5n939f7, 5rb, 6, 60, 600, 605598, 606, 6081606122581198060, 60mb, 60menit, 61, 6281571xxxx, 6287820008358, 62xxxxxxxxxx, 649rb, 65, 6557, 66, 672at88, 67ytg44, 6939, 6gb, 6jt, 6kurang, 6mbps, 700, 71, 7119, 7160kb, 725, 7252, 7302, 7333812, 738, 7390, 7390685xxx, 7479, 74whum, 75, 755, 75jt, 75juta, 75rb, 76, 77, 7711ca88, 777, 783, 78330280, 79, 7915, 7942, 7gb, 7hr, 7jt, 7malam, 7mlm, 7n77f33, 7t899b3, 8, 800, 8000, 808, 817, 822, 8300, 838, 8500, 8633, 8721, 88, 886, 8874, 888, 89, 89rb, 8gb, 8jf2177, 8jt, 90, 900, 900mb, 900rb, 904, 905, 907, 909, 90hari, 90rb, 91066949, 911, 919, 91949720, 91998977, 92828, 93417219, 937, 9399, 94828857, 94ad653, 95, 950rb, 9525, 955, 96, 96000, 98, 9844, 99, 99100827288792, 99399003, 99455, 999, 99900, 9997175, 999rb, 9feb13, a, a1c5h79, a545075264a, aa, aamiin, abai, abdul, abdullah, abis, acara, account, adi, admin, administrasi, ado, adrian, adu, aduh, advertising, advice, aesthetic, afrika, agen, agenda, agenpulsa, agst, agsts, agus, agust, agustus, ahaha, aidzin, airtravel, aj, aja, ajaa, ajaaa, ajakin, ajeng, akademik, akses, aktif, aktifasi, aktivasi, aktivitas, akucintaislam, akun, akurasi, akurat, alaikum, alam, alamat, alami, alamsyah, alat, alesannya, algoritma, algoritma2, alhamdulillah, alhamdullilah, alhuda, aliando, all, allah, alphard, alquran, alur, ama, aman, amp, ampuun, an, anak, and, andi, andika, andipublisher, andri, andrianto, android, androidmu, andromax, ane, aneka, aneka999, angga, anggar, angka, angpao, angpaopoinsenyum, angsur, angunan, animasi, anita, anomali, antar, antivirus, anto, anyar, anyonghaseyo, ap, apa, apa2, apapa, api, aplikasi, app, appa, apple, apply, appreciation, apps, aq, aqila, ardiansyah, area, arengnya, argo, arif, armada, aroxi, artha, arthajaya, arti, artis, arya, aryadhi, aryaxxx, as, asa, asal, asam, asap, ashar, asia, asisten, asli, asmul, assalam, assalamu, astopa, asumsi, at, atas, atay, atm, ato, atuh, atuhlah, atulah, atur, aug, aunul, avanza, awal, aware, awas, away, axiata, axis, axismu, axisnet, aya, ayah, ayena, ayeuna, ayo, ayu, ayyuuuukk, b, b7bc247, b8337h9, b89c7, b89c7h9, baa, bab, babakaran, baca, backup, bagai, bagus, bahagia, bahas, bahaya, bahkan, bahri, bakar, bakti, bal, balai, balas, balik, balon, bambang, bandar, bandros, bandung, bandungg, bang, banget, bangun, bank, bankbni, bankbni2016, banting, bantu, bantuin, banyak, bapa, bapak, bareng, bareng2, barokah, baru, barusan, basdat, baskin, batam, batas, bati, batin, batman, bawah, bawain, bayang, bayar, bb, bbm, bbrp, bca, bdg, bdo, beaok, beban2, bebas, bebek, beberapa, beberes, beda, bekal, bekerjasama, belah, belakang, belanja, beli, beliau, belikan, beliung, bella, belok, bener, beneran, benerin, bensin, bentar, bentuk, berangkat, berangkt, berangktnya, beranta, berapa, berapaa, beras, beres2in, berfikir, beri, berita, berkah, berkas, berkat, berrybenka, bersih, besar, besok, besto, betul, beu, bg58757, bget, bgi, bgmana, bhs, bhw, bhwa, bi, biar, biasa, biasana, biaya, bicara, bidang, big, bigo, bih, bila, bima3care2016, bima3care78, bima3careindo, bimatri, bimbing, bintang, bioskop, bip, birthday, bis, bisah, bisanga, bisnis, bit, biz, bkn, blackberry, blanja, blg, bljr, blm, bln, blog, blokir, bls, bmkg, bnitaplus46, bns, bntar, bntr, bobo, bobok, bola, bolak, bole, bom, booking, borma, bos, box, bpa, bpk, bpkb, br25h99, brati, brg, brgkt, bri, bripusat2016, britama, brminat, brngktnya, bro, bronet, bronetspecial, brotogel6, brp, brpa, brpnya, brunya, bs, bsedia, bsk, bsok, bt, btpn, bts, btw, buat, buatijazahs1, budget, bug, bug2, bukalapak, bukan, bukti, buktikeun, bulan, bulet, bully, bumiputera, bunas, bunda, bung, bunga, bungkus, bursa, buru, buru2, business, button, butuh, bwrangkat, by, byk, byr, c1, cabai, cabe, cabut, cafe, cahaya, cahayatourtravel, cair, call, calon, camera, cantik, cantum, capai, cape, cappuccino, card, care, care27, caretri, cari, caringin, carrier, cas, cash, cashback, casino, caturgadget, cc, cd, cecer, cegah, cek, cekhadiahmtronik2016, cektunai, celaka, celana, cell, cella, celluler, cema, cenah, center, cepet, cerita, cewe, cewek2, cfc, challenge, chandra, charged, chartered, chat, chat2, chatnya, chatting, chicken, china, choice, ciateul, cigna, cipika, citiling, city, ckp, ckup, client, clip, cliponyu, cmn, cnf, co, coba, cobagrabcar, coc, cochochips, cocok, code, coins, coklat, colok, com, combo, complete, construct, control, controler, controllernya, copy, corp, costumer, counter, cover, cowo, cowok, cp, cpt, cpy, cream, credit, creditcard, crispy, cs, csps, csv, cuci, cukup, cuma, cupu, curi, cuss, customer, custumer, cuti, cv, d, d23nov, d3, d303, d377hi8, d956, d966, da, dacota, dadak, dadi, daerah, daftar, daging, dah, dahsyat, dakwah, dana, danamon, dapet, dapetkan, daptkn, darman, darmawan, dasar, dasz, data, database, datang, datar, daun, davis, day, daya, db, dblkg, dbls, ddmmyyyy, de, dear, debat, dediktp, dedy, dee, deh, dekat, deket, dekstop, delete, demo, dengerin, dengna, denpasar, depaaan, depan, depilkom, derr, des, desember, desi, desila, desy, deteksi, detik, develop, dftar, dftr, dg, dgn, dh, dian, diantapani, dianterin, diapain, dibalikin, dibandingin, dibarengin, dibawain, dibutuhin, dicontroler, dicotroller, didr, diem, digabung2, diii, diiket, diil, diinvite2, dijadiin, dikit, dikostan, dikti, dil, diload, dinas, diomongin, dipake, diprog, direktur, diri, dirmawa, disatuin, disc, discond, discound, dishare, diskon, dit, ditambahin, ditelfon, ditempatin, ditravel, ditungguuu, dkrm, dkt, dl, dl40k, dl46j, dlm, dlu, dm7pk, dmana, dmna, doa, doang, dokumen, domestic, domestik, domino, dominos, donasi, donut, donuts, dooong, dosa, double, doublescoop, down, download, dp, dpn, dpt, dptakan, dptkam, dptkan, dptkn, dr, draftnya, drakor, dri, drive, driver, dropdown, drpd, drs, dscn, dsini, dsni, dt, dtg, dtggu, duaduanya, duduk, duit, dukung, duluan, dummy, dunkin, dwm, dy, dzzzz, e14090090, eatboss, ed16, edan, edisi, egi, eh, eka, eksekusi, ekspresi, ekstra, elektrik, elektronik, email, emang, emg, emil, enak, enakaa, end, engkau, enhaii, ente, enten, er56d7, error, ertiga, esian, esok, estimasi, eta, etik, euy, event, excellent, exhibition, experience, extra, f, f77a47h, facebook, fany, farida, fashion, fasilitas, fatih, favorit, fb, felix, fh53x77, fi, field, file, filenya, fip, fir, firli, first, fitutnya, flash, flat, flatcall2500, flavour, folder, follow, food, for, form, format, formnya, fot, foto, foto2, fpmipa, free, freed, freedom, freedoom, freza, fried, frown, full, fungsi, further, futsal, fvcnw, g3, gaaa, gaaais, gaaak, gaada, gabawa, gabisa, gabung, gabungken, gadget, gadiabsen, gaes, gaga, gagal, gais, gajadi, gaji, gak, gaktau, galaxy, galeri, gallery, game, gamepro, games, gamesmu, gampang, gang, ganti, gantiin, gaperlu, gara, gara2, garansi, garsindo, gas, gasalah, gateway, gatot, gausah, gaya, gb, gdg, ge, gebyar, gebyar3care15, gebyarhadiah2016, gebyarindosatpoinplus, gebyarmtronik, gebyartelkomsel, gebyartricare, gede, gedorin, gedung, gelang, gelas, geleh, gemini, gempa, geng, gening, genuine, genuineoil, gerbang, gerlong, getlucky, gi, gift, gigi, gik, gila, gile, gili, gimana, gin, git, gita, github, gitu, gituch, gitulah, gl, gmana, gmna, gnti, go, gojek, gojekgotmehere, gold, gombal, google, gop, goreng, gorengin, grab, grabtaxi, graha, grand, grapari, gratis, group, groupwhere, groupwherenya, gsm, gt, gtau, gtu, gudang, guntur, guru, guy, guys, h, haagen, habis, hadiah, hadiah3, hadiahbri, hadiahkejutangbri, hadiahlik, hadiahlpt3care959, hadiahmtronik, hadiaht3care, hadiahtri3care, hadian, hadir, haha, hahaha, hahahaha, hai, haji, hak, halang, hallo, haluan, handphone, handy, handycam, hangat, hapapa, hape, har, harap, hard, hardcover, harddisk, harga, hari, harino, haris, hasan, hasil, hati, hati2, hatta, hayu, hbngi, hbs, hd, hdiah, hdr7jn7, heboh, hehe, hehehe, helmkuuuu, hemat, henti, hermawati, heroes, heula, hg, hgg3, hh25h77, hhb, hher, hi, hibur, hidup, high, hihi, hihip, hinga, hirenya, hit, hitam, hits, hk, hmmm, hny, hobi, home, honda, hongkong, hormat, host2, hp, hpnya, hr, hrap, hrg, hrga, hrus, hsil, htl, http, https, hub, hubung, huhuhu, hujan, hunting, hut, hutchison, hypermind, i, iatmm, ibu, ice, id, ida, ide, identitas, idtricare, ieu, ih, ii, ijazah, ijin, ijo, ik566, ikan, ikhlas, iki, iklan, ikut, ilmu, im3, iman, imfo, inap, indeks, indo, indofood, indogetjob, indomarcocell, indomaret, indomie, indonesia, indosat, indosatooredoo, indosatpoin, indosatpoinplus2013, indracell, info, infohadiah3care2015, infohadiah3care2016, infohadiahtricare, infohub, infoindosatpoin, inforesmi3care, informasi, informasiny, infoundian, ingat, inspirasi, instagram, install, installernya, instan, instansi, instansiasi, instink, insya, insyaaallah, int, international, internet, internetas, internetmu, interview, intrview, investasi, invite, iot, ip, ipa3y, ipad, ipb, iphone, ir, irawan, ird, iring, irit, irj, isi, isiatmin, isiulang, isiulang3care, isiulangmtronik, ismawati, isteri, isti, istmwa, isya, it, items, iwan, iya, iyaa, iyaaa, iyaaaa, jabat, jaga, jagain, jaguar, jahaaat, jajan, jajang, jajanonline, jajar, jakarta, jalan, jalanken, jam, jamaah, jambi, jamin, jan, janji, japri, jarak, jarang, jateng, jatoh, jauh, jawa, jawab, jaya, jayabet4, jazz, jdi, jebol, jelas, jelek, jemput, jend, jendral, jenis, jepang, jepret, jeruk, jga, jgn, jica, jilbab, jilid, jimdo, jins, jitu, jiwa, jl, jmlh, jne, jobfairactive, jodoh, jogja, joko, jquery, jr, js, jt, jta, "
     ]
    },
    {
     "name": "stdout",
     "output_type": "stream",
     "text": [
      "jtuh, juke, juli, jumat, jumlah, jun, juni, junior, juplo, jurus, jusman, juta, jxpc42, k, ka, kabar, kabarin, kabel, kacamata, kadang, kadisdik, kado, kagi, kait, kak, kaka, kaldaluarsa, kalem, kali, kalimat, kalo, kamar, kamera, kamis, kampuang, kampung, kampunggajah, kampus, kamrin, kamu, kan, kana, kang, kantin, kanto, kantor, kaprodi, karakter, karet, karim, karna, kartu, kartuhalo, karyawan, kas, kasih, kasur, kata, katalog, kategori, kav, kav50, kawal, kayak, kbtulan, kdg, kdgkan, ke10, ke123, ke2, ke4, kebaperan, kebebasa, keburu, kebut, kecil, kedlmn, keik, keisat, kejar, kejut, kejutanindosat, kejutantriindonesia, kejutanundiantri, kelik, keliling, kelompok, keluar, keluarga, kemarin, kembaliin, kembang, ken, kena, kenal, kenan, kenyang, kep, keren, kering, kerja, kesana, kesini, ketemu, ketik, kewirausahaan, keyboard, keyword, kfc, khilaf, kholik, khusus, ki, kikuk, kilat, kini, kios, kira, kira2, kirain, kirim, kirimin, kisar, kiwi, kjtn, kk, kke, klasifikasi, klau, klik, klo, kluarganya, km, kmi, kmna, kmr, kmren, kmu, kna, knapa, kntor, kntr, ko, kode, kodeuniq, koin, koja, kolam, kolom, komar, komisi, kompensasi, kompetisi, kompor, komunikasi, kondisi, koneksi, konfirmasi, kontak, konten, kontra, kontrak, koper, kopi, koreksi, kosan, kosannya, kosong, kost, kota1000berkah, kpd, kpop, kpopmu, kredit, krim, krimkn, krm, krn, krna, krt, krtu, ksana, kt, kta, ktk, ktmu, ktp, ktr, ku, kuasa, kuat, kudu, kuliner, kulkas, kunci, kunjung, kuota, kupon, kurban, kursus, kurus, kwkw, kyknya, l, la, laa, lab, lada, lady, lah, lahir, laksana, lala, lalap, lama, lampir, lampu, lancar, langgan, lanjut, lanjutin, lapor, laptop, lari, larissa, latih, latte, layan, layanantricare, layar, lazada, lbh, ld268, ld279, ld300, ld307, ld309, ld328, ld335, learningnya, lebaran, lebib, lejit, lelah, lemari, lembang, lembar, lengkap, lenkap, lepas, lestari, level, lewat, lewatin, lg, lgs, lgsg, lia, liar, liat, liatin, libur, lieur, lifestyle, lihat, limit, line, lingkung, link, lion, lipat, lipstik, listrik, live, lngsng, load, lobi, localhost, location, logo, loh, lok, lolyta, longsor, loopers, lottemart, ls, lsg, lt, lt1, lte, luar, lucky, lukis, lukman, lulu, lulus, lumayan, lunas, lupa, lupaaa, lurah, lwt, ly, m, m248k81, m2577, m3, m4in, m7h7r47, m902cx8j, maaaaaaaaf, maacih, maaf, maafa, maafay, maapin, macbook, macet, machine, mad, mag, maghrib, magicomnya, mahal, mahar, mahasiswa, mahmud, main, makalah, makanya, makasih, makasihhh, make, maker, makin, maks, maksimal, maksud, malah, malam, malas, malaysia, malem, males, mama, mamah, mampu, mana, manaada, mandi, mandiri, maneh, manfaat, mang, mangga, manis, mantap, mar, mariadi, marketing, mas, masa, masak, masak2nya, masalah, masing, masing2, massal, master, mastiin, masuk, masukin, mataharimall, matakuliah, materi, mati, matiin, mau, max, mayani, mb, mba, mbah, mbntu, mcdonalds, mdpt, mdptkan, me, medan, medptkan, medrec, meet, mega, mei, meja, mel, melulu, member, menatmdpt, mending, mendpatkn, mendptkan, menghub, menit, mentah, menu, merah, merchants, merdeka, merica, merk, mesan, metro, mewek, mg, mg75k7, mgg, mgkin, mgrib, mh, mhegatravel, mhn, mhs, mi, middle, midnight, mido, mie, migrasi, miitra, miliard, milik, million, milyar, min, minat, mineral, minggu, mini, minimum, minimun, mining, minna, minta, minum, misal, misi, mjd, mkios, mkios15, mkiosjkt, mks, mksh, ml, mlm, mnctv, mndpt, mndptkan, mndptkn, mngenai, mnghubungi, mnta, mnyediakn, mnyesuaikan, mo, moal, mobil, mobprog, mock, modal, model, modem, mohon, motor, movie, mp, ms, msalah, msceis, msh, mslh, mthr, mtor, mtronik, mu, mubazir, muda, mudah, mul, muliani, muliyadi, multiple, mulu, mulyadi, mumpung, muncul, mungkin, murahituim3, murdoyo, murid, murtiani, mw, my, mycare, mycareply, mytelkomsel, mytsel1, myvplus, n, n091, n092, na, nabung, nagamas, nah, naha, nak, naldisuparman, nama, nama1, namakuuu, nambah, nang, nanggung, nanya, narti, nasabah, nasi, nasib, nb, ndisek, ndpt, ndptkan, ndut, negara, nego, nelp, nemu, nenek, net, nf, nfo, ngajak, ngajakan, ngaku, ngampus, ngan, ngantor, ngapain, ngaret, ngasih, ngasihinnya, nge, ngebatin, ngebayangin, ngebuild, ngebut, ngedeteksi, ngegrab, ngeh, ngehubungin, ngerasa, ngerasain, ngerjain, ngerokok, ngerti, ngetem, ngga, nggk, ngidam, nginget, ngobrol, ngoding, ngolah, ngomong, ngomong2, ngomongin, ngontrak, ngsung, ngubek, ngumpul, ni, niaga, niat, nih, nikah, nikmat, nim, ninggalin, nipis, nissan, nmor, nmr, nmrku, no, noah02, nomer, nomr, nonaktif, nondik, nonton, norek, normal, notip, nov, november, noxv, npwp, nrml, nsp, ntar, ntb, nti, ntr, nu, nuhun, nuhuun, nunggu, nusa, nutrisi, nuy, nxmvf722ue, nya, nyaah, nyakitin, nyala, nyalain, nyari, nyaris2, nyata, nyerahin, nyesuain, nyetak, nyimper, nyoba, nyumbang, nyusul, o, o341, obat, obor, obral, odp, of, off, office, offline, oge, oil, oiya, oke, oktra, olie, olshop, onix, onix3, online, onyx3, oo, ooh, ooredoo, operator, opoerator, opsi, orang, org, org2, orlando, orng, ortu, osnnya, otak, otp, output, outputnya, overreact, overthink, p10, p20, pa, pa2, pacar, paedi, pager, pagi, paha, paham, pajuin, pak, pakai, paket, paksa, paling, pan, pandang, pandu, panggil, pangmeserkeun, pangmeulikeun, panjang, panjang2, panpizza, pantai, parah, pariksa, party, pas, pasca, pasien, pasir, paspor, passenger, patah, patuha, payment, pc, pcs, pdf, pdg, pdhl, pedoman, pelaku2, peluang, pen, penginputan, pentaho, penteng, penting, penuh, pepaya, per, percaya, pergi, perhati, perihal, perilaku, periode, perkedel, perlu, pernuh, persero, pertable, pertama, pertamina, pertaminareckrutment, pertanggungjawaban, pg, pgn, ph, phone, photo4x6, pihak, pikir, piknik, pimpin, pindah, pinggir, pinj, pinjam, pisaaaan, pizza, pk, pkt, pla, plasatelkommlg, platihan, play, plaza, please, plgn, pln, plntelkom, pls, plsa, plusplus, plz, pm, pmenang, pmnang, pnjam, pnjaman, pnwrn, po, po0216020925, poin, poinindosat, poinplusplus, point, pokemon, pokok, pom, pon, ponsel, poor, pop, popmie, popmie200, popmieget, porsi, posisi, positif, poskamling, post, potensi, ppl, praktek, praktikum, praktis, prasetya, prastia, prelaunch, premium, presentasi, prestasi, presto, pret, pribdi, prihal, print, printer, priode, prize, prodi, prodiy, produk, prof, profit, prog, program, programisiulang3care, programmer, programundiantricare, progres, project, promo, promosi, promotri2013, promoundian, proposal, proses, proses1hari, pst, pswt, pt3care, pt3care34, ptaxis, ptmkios547, pttricare2016, ptx, puas, puasa, public, publish, pucakti, pucuk, puji, pukul, pul, pulang, pull, pulsa, pulsa25rb, puluhanjt, punya, purwanto, purwokerto, pus, pusat, pusenkav, push, pusing, putar, putera, putri, putus, pvj, qaqa, quiz, quota, r, rabu, radiologi, raditya, rafael, ragu, rahasia, rahasia2, rahmad, rahman, raih, raja, rakyat, ram, ramadhan, rame, rancak, random, randy, range, rapat, rapih, rasa, rastina, rasto, ratarata, rate, ratna, ratus, rawat, rawatdaruat, rawatdarurat, rawit, rawosi, rb, rbq, rbu, rcti, rd, rebus, ref, referral, reg, register, registrasi, regular, rehabilitasi, rejeki, rek, rekening, rel, reload, remed, renang, rencang, rendah, renti, report, repot, reservasi, residence, reski, resky, resmi777, responnya, resto, restu, retuwal, reuni, revisi, reza, rezky, ri, riah, rian, ribu, rica, rich, ride, riiweh, rindu, ringan, risal, rm, rmh, roi, roni, ros, route, rp, rp10, rp100jt, rp100rb, rp10rb, rp10ribu, rp125rb, rp149rb, rp1500, rp20rb, rp24900, rp25, rp2500, rp25rb, rp28800, rp29, rp29rb, rp30rb, rp3300, rp39800, rp42rb, rp44900, rp45, rp45500, rp500, rp50000, rp59rb, rp60rb, rp68rb, rp75, rp75rb, rp7rb, rp89rb, rs, rtx1, ruang, rudi, ruma, rumah, rumit2, rupiah, rusak, rutin, rwd2749, s, s1, s2, s301, s4, saat2, sabar, sabtu, sadang, sadikin, safei, safiatm, safitri, saha, sahabat, sahkan, saiki, sal, salah, salam, sale, sama, sama2, samain, samarinda, samawa, sambal, sambung, sampe, samping, sampoerna, samsung, sana, sananha, sandwich, sangat, sapi, sareng, sate, satpam, satu, saudara, save, sayang, sayap, sbagai, sbg, sbgai, sbgi, sblm, sblum, sbsar, scond, scoop, score, scroll, sctv, sd, sdah, sdg, sdh, sdr, se, sebanyak2nya, sebar, sebrangnya, sed, sedang, sedia, seengganya, segala, segan, segeleh, segera, segimana, sehat, sejati, sekalulian, sekarang, sekolah, sel, selamat, selamatmenyambutkemenangan, seleb, selesei, seling, selisih, selpoinhadiah, seluruh, semangat, semanggi, semarak, semarang, semata, semester, seminar, sempat, semua, semuanyaaa, sen, senang, send, sendiiri, sendiri, senin, sensasi, sensor, senyum, sep, sepenuh, sept, september, septiana, sepupu, serah, serang, serba, seri, sering, seru, service, services, servis, sesi, sesuai, sesuain, setia, setor, setting, sf, sgp, sgr, shara, share, shd, sheet, sholat, shopinbursabb, si, siang, siapa, siaraan, siaw, sibuk, sid, sidang, sidomuncul, sigit, sila, silah, silaturahmi, sim, simak, simpan, simpati, simpul, sinar, sindo, singapur, singgung, singkat, sini, sinonim, sio, sirup, sisa, sistem, sistemrumahsakit, situ, situs, situshadiah, situstricare77, sj, sjk, skb, skema, skip, skl, skrg, skripsi, skrng, slainya, slamat, slide, slip, slm, slmat, slmt, slot, sm, sma, smangat, smartfren, smartfrenmu, smartphone, smg, smk, smlt, sms, smsin, smua, smuanya, sn, snack, snmkios, snr, soalna, sob, sofiyah, softfilenya, software, sok, solat, solder, solo, solusi, sopi, sore, sore2, source, sp, spam, spasi, speedy, spesial, sponsor, sportsbook, spt, sql, sri, srianto, sring, ss, standart, status, stay, sticker, stickernya, stiker, stlh, stok, store, streaming, stres, strip, struktur, studio, stuju, suami, suatu, subang, subsidi, subuh, sudirman, sugiyono, suka, sukses, sulaiman, sulit, sumargani, sumber, summary, sumo, sundae, sunday, sungai, sunny15, super, surabaya, surat, surat2, suri, surianto, surpai, suruh, survei, surveu, survey, surya, suryani, susah, suyono, suzuki, swt, sy, sya, syamsudin, syarat, syariah, sync, syrt, sys, syukur, t, t496, t514, t530, t536, t580, tabel, table, tablenya, tabung, tadi, tagih, tahap, tahu, tak, take, takut, tampil, tanah, tanggal, tanggung, tanjung, tanp, tanya, tap, taplus, tappromo, tarif, tariff, tarik, tau, tawa, taxi, tbk, tbs, tcash, tcashmu, tcashrabu, tcpdf, td, tdak, tdi, tdk, tdr, tea, tear, tebal, teduh, teh, tekan, telat, telepon, telf, teliti, telkom, telkomsel, telkomselpoin, telkomselpoin2222, telkomselundian2013, telor, telpon, tema, teman, teman2, tembus, temen, temen2, temenin, tempat, tempe, template, tempo, tempuh, temu, tengah, tenggara, tentangcigna, teori, terang, terbang, terima, terimakasih, terlalu, tersrrah, terusin, tes, test, tetap, teteh, tetep, text, tf, tgl, th, th2014, thank, the, themes, thing, this, thn, thr, thr15, thr25, thr6, tia, tiap, tiba2, tibatiba, ticket, tiga, tika, tilang, time, timezone, timur, tinggal, tinggi, tingkat, tipe, tipon, tipu, titaniadbl, titip, titipin, tk, tkn, tks, tl053c, tlh, tlng, tlp, tlpn, tman2, tmn2, tnpa, toch, toefl, togel, toko, tokobagusphone, tokopedi, tombol, tong, top, topik, torch, torch2, total, tour, tourch, toyota, toyotanya, tp, tpilih, tranfer, trans, transaksi, transformasi, transport, transstudiobgd, travel, traveloka, treatment, tren, trfr, tri, tri2015, tri3care, tri3care2016, tri75, tri8, tribun3, tricare, tricare16, tricaretbk2016, tridaya, trima, trimksh, trims, trip, triple, trmh, trmks, trms, trnsfer, tronik, trpilih, trs, trsambung, trsmbung, trust, trx, tsb"
     ]
    },
    {
     "name": "stdout",
     "output_type": "stream",
     "text": [
      ", tselthr, tst88, tsu59, ttd, ttg, tu, tua, tuanai, tugas, tugu, tuju, tuk, tukokno, tulang2an, tulis, tumben, tunggal, tunggu, turbo, turun, tutup, tv, tw96d, twitter, type, u, uang, uas, uasnya, ubah, uber, udah, udh, udunan, ujannya, ujiklyakankerjaberstifikat, ujug2, ulanag, ulg2, ulsa, ultima, umum, umur, unbearable, undang, undi, undian3, undianbri, undianindofood, undianmtronik, undur, unisba, unit, unlimited, unpad, unruk, untk, untungbeliung, up, upa, update, upi, upinet, upnyaa, urang, urangbandung, urg, urgent, urus, us6, usa, usah, usahain, use, ustad, usul, utama, utk, uts, v, v10, v20, v25, v5, v712, value, values, vape, vas280, vchr, verifikasi, versi, very, via, view, vii, vip, vipgames, visa, volume, voucher, vr25d, vu, wa, waaah, waalaikumsalam, waalaikumsalamin, wacana, wah, wahyu, wahyudi, wahyudin, wajah, wajib, wakil, waktu, waktupenguji, walfaidin, wallet, wallppr, walopun, waminkum, war, wardoyo, warkop, warna, warteg, wassalamu, wb, webnode, webs, website, websitenya, weebly, week, weekend, weka, whatsapp, wib, wibb, wid, wida, wifi, wihh, wilayah, windows, wix, wk, wkkw, wktnya, wkwk, wkwkwkwk, wonderland, wooh, wordpress, wow, wqwq, wr, wwf, www, xn, xpress, xv, xxi, xxxx, xy7qd77, y, yaa, yaaa, yaaaa, yaaaaa, yaaah, yacha, yah, yahama, yani, yank, yanti, yaudah, yawww, yellow, yes, yg, yk, ymail, yogya, yonny, yooo, you, your, ypac, yth, ytm, yu, yudisium, yuk, yuks, yuni, yunit, zalora, zarkasi, "
     ]
    }
   ],
   "source": [
    "for i in np.array(fitur)[lib.get_index(hasil_seleksi_fitur)]:\n",
    "    print(i, end=\", \")"
   ]
  },
  {
   "cell_type": "code",
   "execution_count": 26,
   "metadata": {},
   "outputs": [
    {
     "name": "stdout",
     "output_type": "stream",
     "text": [
      "3406\n"
     ]
    },
    {
     "data": {
      "text/plain": [
       "array(['0', '000', '000untuk', ..., 'yunit', 'zalora', 'zarkasi'],\n",
       "      dtype='<U26')"
      ]
     },
     "execution_count": 26,
     "metadata": {},
     "output_type": "execute_result"
    }
   ],
   "source": [
    "fitur_pilihan = np.array(fitur)[lib.get_index(good_fitur)]\n",
    "print(len(fitur_pilihan))\n",
    "fitur_pilihan"
   ]
  },
  {
   "cell_type": "code",
   "execution_count": 8,
   "metadata": {},
   "outputs": [
    {
     "ename": "ValueError",
     "evalue": "arrays must all be same length",
     "output_type": "error",
     "traceback": [
      "\u001b[1;31m---------------------------------------------------------------------------\u001b[0m",
      "\u001b[1;31mValueError\u001b[0m                                Traceback (most recent call last)",
      "\u001b[1;32m<ipython-input-8-8d49284e8666>\u001b[0m in \u001b[0;36m<module>\u001b[1;34m\u001b[0m\n\u001b[0;32m      5\u001b[0m }\n\u001b[0;32m      6\u001b[0m \u001b[1;33m\u001b[0m\u001b[0m\n\u001b[1;32m----> 7\u001b[1;33m \u001b[0mdf_hasil\u001b[0m \u001b[1;33m=\u001b[0m \u001b[0mpd\u001b[0m\u001b[1;33m.\u001b[0m\u001b[0mDataFrame\u001b[0m\u001b[1;33m.\u001b[0m\u001b[0mfrom_dict\u001b[0m\u001b[1;33m(\u001b[0m\u001b[0mdict_data\u001b[0m\u001b[1;33m)\u001b[0m\u001b[1;33m\u001b[0m\u001b[1;33m\u001b[0m\u001b[0m\n\u001b[0m\u001b[0;32m      8\u001b[0m \u001b[0mdf_hasil\u001b[0m\u001b[1;33m\u001b[0m\u001b[1;33m\u001b[0m\u001b[0m\n",
      "\u001b[1;32m~\\Anaconda3\\lib\\site-packages\\pandas\\core\\frame.py\u001b[0m in \u001b[0;36mfrom_dict\u001b[1;34m(cls, data, orient, dtype, columns)\u001b[0m\n\u001b[0;32m   1188\u001b[0m             \u001b[1;32mraise\u001b[0m \u001b[0mValueError\u001b[0m\u001b[1;33m(\u001b[0m\u001b[1;34m\"only recognize index or columns for orient\"\u001b[0m\u001b[1;33m)\u001b[0m\u001b[1;33m\u001b[0m\u001b[1;33m\u001b[0m\u001b[0m\n\u001b[0;32m   1189\u001b[0m \u001b[1;33m\u001b[0m\u001b[0m\n\u001b[1;32m-> 1190\u001b[1;33m         \u001b[1;32mreturn\u001b[0m \u001b[0mcls\u001b[0m\u001b[1;33m(\u001b[0m\u001b[0mdata\u001b[0m\u001b[1;33m,\u001b[0m \u001b[0mindex\u001b[0m\u001b[1;33m=\u001b[0m\u001b[0mindex\u001b[0m\u001b[1;33m,\u001b[0m \u001b[0mcolumns\u001b[0m\u001b[1;33m=\u001b[0m\u001b[0mcolumns\u001b[0m\u001b[1;33m,\u001b[0m \u001b[0mdtype\u001b[0m\u001b[1;33m=\u001b[0m\u001b[0mdtype\u001b[0m\u001b[1;33m)\u001b[0m\u001b[1;33m\u001b[0m\u001b[1;33m\u001b[0m\u001b[0m\n\u001b[0m\u001b[0;32m   1191\u001b[0m \u001b[1;33m\u001b[0m\u001b[0m\n\u001b[0;32m   1192\u001b[0m     \u001b[1;32mdef\u001b[0m \u001b[0mto_numpy\u001b[0m\u001b[1;33m(\u001b[0m\u001b[0mself\u001b[0m\u001b[1;33m,\u001b[0m \u001b[0mdtype\u001b[0m\u001b[1;33m=\u001b[0m\u001b[1;32mNone\u001b[0m\u001b[1;33m,\u001b[0m \u001b[0mcopy\u001b[0m\u001b[1;33m=\u001b[0m\u001b[1;32mFalse\u001b[0m\u001b[1;33m)\u001b[0m\u001b[1;33m:\u001b[0m\u001b[1;33m\u001b[0m\u001b[1;33m\u001b[0m\u001b[0m\n",
      "\u001b[1;32m~\\Anaconda3\\lib\\site-packages\\pandas\\core\\frame.py\u001b[0m in \u001b[0;36m__init__\u001b[1;34m(self, data, index, columns, dtype, copy)\u001b[0m\n\u001b[0;32m    409\u001b[0m             )\n\u001b[0;32m    410\u001b[0m         \u001b[1;32melif\u001b[0m \u001b[0misinstance\u001b[0m\u001b[1;33m(\u001b[0m\u001b[0mdata\u001b[0m\u001b[1;33m,\u001b[0m \u001b[0mdict\u001b[0m\u001b[1;33m)\u001b[0m\u001b[1;33m:\u001b[0m\u001b[1;33m\u001b[0m\u001b[1;33m\u001b[0m\u001b[0m\n\u001b[1;32m--> 411\u001b[1;33m             \u001b[0mmgr\u001b[0m \u001b[1;33m=\u001b[0m \u001b[0minit_dict\u001b[0m\u001b[1;33m(\u001b[0m\u001b[0mdata\u001b[0m\u001b[1;33m,\u001b[0m \u001b[0mindex\u001b[0m\u001b[1;33m,\u001b[0m \u001b[0mcolumns\u001b[0m\u001b[1;33m,\u001b[0m \u001b[0mdtype\u001b[0m\u001b[1;33m=\u001b[0m\u001b[0mdtype\u001b[0m\u001b[1;33m)\u001b[0m\u001b[1;33m\u001b[0m\u001b[1;33m\u001b[0m\u001b[0m\n\u001b[0m\u001b[0;32m    412\u001b[0m         \u001b[1;32melif\u001b[0m \u001b[0misinstance\u001b[0m\u001b[1;33m(\u001b[0m\u001b[0mdata\u001b[0m\u001b[1;33m,\u001b[0m \u001b[0mma\u001b[0m\u001b[1;33m.\u001b[0m\u001b[0mMaskedArray\u001b[0m\u001b[1;33m)\u001b[0m\u001b[1;33m:\u001b[0m\u001b[1;33m\u001b[0m\u001b[1;33m\u001b[0m\u001b[0m\n\u001b[0;32m    413\u001b[0m             \u001b[1;32mimport\u001b[0m \u001b[0mnumpy\u001b[0m\u001b[1;33m.\u001b[0m\u001b[0mma\u001b[0m\u001b[1;33m.\u001b[0m\u001b[0mmrecords\u001b[0m \u001b[1;32mas\u001b[0m \u001b[0mmrecords\u001b[0m\u001b[1;33m\u001b[0m\u001b[1;33m\u001b[0m\u001b[0m\n",
      "\u001b[1;32m~\\Anaconda3\\lib\\site-packages\\pandas\\core\\internals\\construction.py\u001b[0m in \u001b[0;36minit_dict\u001b[1;34m(data, index, columns, dtype)\u001b[0m\n\u001b[0;32m    255\u001b[0m             \u001b[0marr\u001b[0m \u001b[1;32mif\u001b[0m \u001b[1;32mnot\u001b[0m \u001b[0mis_datetime64tz_dtype\u001b[0m\u001b[1;33m(\u001b[0m\u001b[0marr\u001b[0m\u001b[1;33m)\u001b[0m \u001b[1;32melse\u001b[0m \u001b[0marr\u001b[0m\u001b[1;33m.\u001b[0m\u001b[0mcopy\u001b[0m\u001b[1;33m(\u001b[0m\u001b[1;33m)\u001b[0m \u001b[1;32mfor\u001b[0m \u001b[0marr\u001b[0m \u001b[1;32min\u001b[0m \u001b[0marrays\u001b[0m\u001b[1;33m\u001b[0m\u001b[1;33m\u001b[0m\u001b[0m\n\u001b[0;32m    256\u001b[0m         ]\n\u001b[1;32m--> 257\u001b[1;33m     \u001b[1;32mreturn\u001b[0m \u001b[0marrays_to_mgr\u001b[0m\u001b[1;33m(\u001b[0m\u001b[0marrays\u001b[0m\u001b[1;33m,\u001b[0m \u001b[0mdata_names\u001b[0m\u001b[1;33m,\u001b[0m \u001b[0mindex\u001b[0m\u001b[1;33m,\u001b[0m \u001b[0mcolumns\u001b[0m\u001b[1;33m,\u001b[0m \u001b[0mdtype\u001b[0m\u001b[1;33m=\u001b[0m\u001b[0mdtype\u001b[0m\u001b[1;33m)\u001b[0m\u001b[1;33m\u001b[0m\u001b[1;33m\u001b[0m\u001b[0m\n\u001b[0m\u001b[0;32m    258\u001b[0m \u001b[1;33m\u001b[0m\u001b[0m\n\u001b[0;32m    259\u001b[0m \u001b[1;33m\u001b[0m\u001b[0m\n",
      "\u001b[1;32m~\\Anaconda3\\lib\\site-packages\\pandas\\core\\internals\\construction.py\u001b[0m in \u001b[0;36marrays_to_mgr\u001b[1;34m(arrays, arr_names, index, columns, dtype)\u001b[0m\n\u001b[0;32m     75\u001b[0m     \u001b[1;31m# figure out the index, if necessary\u001b[0m\u001b[1;33m\u001b[0m\u001b[1;33m\u001b[0m\u001b[1;33m\u001b[0m\u001b[0m\n\u001b[0;32m     76\u001b[0m     \u001b[1;32mif\u001b[0m \u001b[0mindex\u001b[0m \u001b[1;32mis\u001b[0m \u001b[1;32mNone\u001b[0m\u001b[1;33m:\u001b[0m\u001b[1;33m\u001b[0m\u001b[1;33m\u001b[0m\u001b[0m\n\u001b[1;32m---> 77\u001b[1;33m         \u001b[0mindex\u001b[0m \u001b[1;33m=\u001b[0m \u001b[0mextract_index\u001b[0m\u001b[1;33m(\u001b[0m\u001b[0marrays\u001b[0m\u001b[1;33m)\u001b[0m\u001b[1;33m\u001b[0m\u001b[1;33m\u001b[0m\u001b[0m\n\u001b[0m\u001b[0;32m     78\u001b[0m     \u001b[1;32melse\u001b[0m\u001b[1;33m:\u001b[0m\u001b[1;33m\u001b[0m\u001b[1;33m\u001b[0m\u001b[0m\n\u001b[0;32m     79\u001b[0m         \u001b[0mindex\u001b[0m \u001b[1;33m=\u001b[0m \u001b[0mensure_index\u001b[0m\u001b[1;33m(\u001b[0m\u001b[0mindex\u001b[0m\u001b[1;33m)\u001b[0m\u001b[1;33m\u001b[0m\u001b[1;33m\u001b[0m\u001b[0m\n",
      "\u001b[1;32m~\\Anaconda3\\lib\\site-packages\\pandas\\core\\internals\\construction.py\u001b[0m in \u001b[0;36mextract_index\u001b[1;34m(data)\u001b[0m\n\u001b[0;32m    366\u001b[0m             \u001b[0mlengths\u001b[0m \u001b[1;33m=\u001b[0m \u001b[0mlist\u001b[0m\u001b[1;33m(\u001b[0m\u001b[0mset\u001b[0m\u001b[1;33m(\u001b[0m\u001b[0mraw_lengths\u001b[0m\u001b[1;33m)\u001b[0m\u001b[1;33m)\u001b[0m\u001b[1;33m\u001b[0m\u001b[1;33m\u001b[0m\u001b[0m\n\u001b[0;32m    367\u001b[0m             \u001b[1;32mif\u001b[0m \u001b[0mlen\u001b[0m\u001b[1;33m(\u001b[0m\u001b[0mlengths\u001b[0m\u001b[1;33m)\u001b[0m \u001b[1;33m>\u001b[0m \u001b[1;36m1\u001b[0m\u001b[1;33m:\u001b[0m\u001b[1;33m\u001b[0m\u001b[1;33m\u001b[0m\u001b[0m\n\u001b[1;32m--> 368\u001b[1;33m                 \u001b[1;32mraise\u001b[0m \u001b[0mValueError\u001b[0m\u001b[1;33m(\u001b[0m\u001b[1;34m\"arrays must all be same length\"\u001b[0m\u001b[1;33m)\u001b[0m\u001b[1;33m\u001b[0m\u001b[1;33m\u001b[0m\u001b[0m\n\u001b[0m\u001b[0;32m    369\u001b[0m \u001b[1;33m\u001b[0m\u001b[0m\n\u001b[0;32m    370\u001b[0m             \u001b[1;32mif\u001b[0m \u001b[0mhave_dicts\u001b[0m\u001b[1;33m:\u001b[0m\u001b[1;33m\u001b[0m\u001b[1;33m\u001b[0m\u001b[0m\n",
      "\u001b[1;31mValueError\u001b[0m: arrays must all be same length"
     ]
    }
   ],
   "source": [
    "\n",
    "dict_data = {\n",
    "    \"fitness\":best_fitness_list,\n",
    "    \"jumlah_fitur\":best_jumlah_fitur_list,\n",
    "    \"generasi\":best_generasi_list,\n",
    "}\n",
    "\n",
    "df_hasil = pd.DataFrame.from_dict(dict_data)\n",
    "df_hasil\n"
   ]
  },
  {
   "cell_type": "code",
   "execution_count": 11,
   "metadata": {},
   "outputs": [
    {
     "name": "stdout",
     "output_type": "stream",
     "text": [
      "52\n"
     ]
    }
   ],
   "source": [
    "print(len(best_fitness_list))"
   ]
  },
  {
   "cell_type": "code",
   "execution_count": 43,
   "metadata": {},
   "outputs": [
    {
     "data": {
      "text/html": [
       "<div>\n",
       "<style scoped>\n",
       "    .dataframe tbody tr th:only-of-type {\n",
       "        vertical-align: middle;\n",
       "    }\n",
       "\n",
       "    .dataframe tbody tr th {\n",
       "        vertical-align: top;\n",
       "    }\n",
       "\n",
       "    .dataframe thead th {\n",
       "        text-align: right;\n",
       "    }\n",
       "</style>\n",
       "<table border=\"1\" class=\"dataframe\">\n",
       "  <thead>\n",
       "    <tr style=\"text-align: right;\">\n",
       "      <th></th>\n",
       "      <th>fitness</th>\n",
       "      <th>generasi</th>\n",
       "    </tr>\n",
       "  </thead>\n",
       "  <tbody>\n",
       "  </tbody>\n",
       "</table>\n",
       "</div>"
      ],
      "text/plain": [
       "Empty DataFrame\n",
       "Columns: [fitness, generasi]\n",
       "Index: []"
      ]
     },
     "execution_count": 43,
     "metadata": {},
     "output_type": "execute_result"
    }
   ],
   "source": [
    "cek = 0.98\n",
    "\n",
    "grouped = df_hasil.groupby('generasi')\n",
    "grouped.filter(lambda x: x['fitness'].mean() > cek)"
   ]
  },
  {
   "cell_type": "code",
   "execution_count": null,
   "metadata": {},
   "outputs": [],
   "source": []
  },
  {
   "cell_type": "code",
   "execution_count": null,
   "metadata": {},
   "outputs": [],
   "source": []
  }
 ],
 "metadata": {
  "kernelspec": {
   "display_name": "Python 3",
   "language": "python",
   "name": "python3"
  },
  "language_info": {
   "codemirror_mode": {
    "name": "ipython",
    "version": 3
   },
   "file_extension": ".py",
   "mimetype": "text/x-python",
   "name": "python",
   "nbconvert_exporter": "python",
   "pygments_lexer": "ipython3",
   "version": "3.7.4"
  }
 },
 "nbformat": 4,
 "nbformat_minor": 2
}
