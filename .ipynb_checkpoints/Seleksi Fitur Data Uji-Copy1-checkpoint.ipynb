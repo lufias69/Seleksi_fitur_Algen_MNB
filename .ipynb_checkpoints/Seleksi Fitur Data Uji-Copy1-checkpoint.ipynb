{
 "cells": [
  {
   "cell_type": "code",
   "execution_count": 1,
   "metadata": {},
   "outputs": [
    {
     "name": "stdout",
     "output_type": "stream",
     "text": [
      "D:\\github\\python\\Seleksi_fitur_Algen_MNB\n"
     ]
    }
   ],
   "source": [
    "import pandas as pd\n",
    "import numpy as np\n",
    "from Lib import Algen_lib as lib \n",
    "from Lib import AlgenFS_KF_h as fs"
   ]
  },
  {
   "cell_type": "code",
   "execution_count": null,
   "metadata": {},
   "outputs": [],
   "source": []
  },
  {
   "cell_type": "code",
   "execution_count": 2,
   "metadata": {},
   "outputs": [],
   "source": [
    "#Data Latih\n",
    "dfA = pd.read_excel('data/sms_clean_norm.xlsx')\n",
    "df =dfA[100:] \n",
    "corpus = df.sms.tolist()\n",
    "label = df.label.tolist()"
   ]
  },
  {
   "cell_type": "code",
   "execution_count": 3,
   "metadata": {},
   "outputs": [],
   "source": [
    "#Data Uji\n",
    "df =dfA[:100] \n",
    "corpusU = df.sms.tolist()\n",
    "labelU = df.label.tolist()"
   ]
  },
  {
   "cell_type": "code",
   "execution_count": 4,
   "metadata": {},
   "outputs": [],
   "source": [
    "# df =dfA[100:] \n",
    "corpusA = dfA.sms.tolist()\n",
    "labelA = dfA.label.tolist()"
   ]
  },
  {
   "cell_type": "code",
   "execution_count": 5,
   "metadata": {},
   "outputs": [],
   "source": [
    "fitur = lib.feature_extraction(corpus)"
   ]
  },
  {
   "cell_type": "code",
   "execution_count": null,
   "metadata": {},
   "outputs": [],
   "source": []
  },
  {
   "cell_type": "code",
   "execution_count": 6,
   "metadata": {},
   "outputs": [],
   "source": [
    "jumlah_populasi = 50\n",
    "K=20\n",
    "jumlah_titik = 1500 #crossover\n",
    "prob_mutasi = 0.7 #probabilitas permutasi\n",
    "metode = \"tfidf\"\n",
    "pc = 0.3\n",
    "alpha = 1\n",
    "target = 0.99 #target akurasi\n",
    "panjang_fitur = len(fitur)\n",
    "gen_size = 15\n",
    "parent_selection=True"
   ]
  },
  {
   "cell_type": "code",
   "execution_count": null,
   "metadata": {},
   "outputs": [],
   "source": []
  },
  {
   "cell_type": "code",
   "execution_count": null,
   "metadata": {},
   "outputs": [
    {
     "name": "stdout",
     "output_type": "stream",
     "text": [
      "fitness all features: 0.927177068214804\n",
      "-------------------------\n",
      "Generasi ke 1 [-]\n",
      "  ___________________________________________\n",
      "     Nilai Fitness       |Fitur|ALL  |Generasi\n",
      "    0.8983490566037735   | 1901|3789 | Populasi awal\n",
      "    0.9098693759071118   | 1875|3789 | Populasi awal\n",
      "    0.9022496371552974   | 1889|3789 | Populasi awal\n",
      "    0.8696661828737302   | 1963|3789 | Populasi awal\n",
      "    0.8944666182873728   | 1874|3789 | Populasi awal\n",
      "    0.9165820029027574   | 1933|3789 | Populasi awal\n",
      "    0.8898040638606677   | 1967|3789 | Populasi awal\n",
      "    0.9138062409288823   | 1907|3789 | Populasi awal\n",
      "    0.8782656023222062   | 1874|3789 | Populasi awal\n",
      "    0.875344702467344    | 1909|3789 | Populasi awal\n",
      "    0.8916364296081278   | 1888|3789 | Populasi awal\n",
      "    0.8916182873730044   | 1894|3789 | Populasi awal\n",
      "    0.8927068214804063   | 1931|3789 | Populasi awal\n",
      "    0.8897314949201741   | 1968|3789 | Populasi awal\n",
      "    0.8907293178519593   | 1912|3789 | Populasi awal\n",
      "    0.8782293178519593   | 1860|3789 | Populasi awal\n",
      "    0.9080732946298984   | 1920|3789 | Populasi awal\n",
      "    0.9070391872278663   | 1884|3789 | Populasi awal\n",
      "    0.8849782293178519   | 1908|3789 | Populasi awal\n",
      "    0.8724419448476052   | 1854|3789 | Populasi awal\n",
      "    0.8782474600870828   | 1876|3789 | Populasi awal\n",
      "    0.8906748911465892   | 1882|3789 | Populasi awal\n",
      "    0.8878265602322205   | 1916|3789 | Populasi awal\n",
      "    0.8994920174165457   | 1895|3789 | Populasi awal\n",
      "    0.8907474600870827   | 1843|3789 | Populasi awal\n",
      "    0.8993287373004353   | 1924|3789 | Populasi awal\n",
      "    0.899401306240929    | 1893|3789 | Populasi awal\n",
      "    0.9137518142235121   | 1926|3789 | Populasi awal\n",
      "    0.9051523947750362   | 1873|3789 | Populasi awal\n",
      "    0.8935595065312049   | 1900|3789 | Populasi awal\n",
      "    0.9127902757619738   | 1931|3789 | Populasi awal\n",
      "    0.8984397677793906   | 1908|3789 | Populasi awal\n",
      "    0.8983853410740205   | 1838|3789 | Populasi awal\n",
      "    0.9060957910014512   | 1894|3789 | Populasi awal\n",
      "    0.890711175616836    | 1916|3789 | Populasi awal\n",
      "    0.9013243831640055   | 1874|3789 | Populasi awal\n",
      "    0.9137155297532656   | 1907|3789 | Populasi awal\n",
      "    0.902231494920174    | 1904|3789 | Populasi awal\n",
      "    0.8907837445573294   | 1839|3789 | Populasi awal\n",
      "    0.8763606676342525   | 1843|3789 | Populasi awal\n",
      "    0.8820391872278666   | 1877|3789 | Populasi awal\n",
      "    0.9013243831640058   | 1902|3789 | Populasi awal\n",
      "    0.9022496371552975   | 1943|3789 | Populasi awal\n",
      "    0.9032293178519593   | 1897|3789 | Populasi awal\n",
      "    0.8849963715529754   | 1857|3789 | Populasi awal\n",
      "    0.8965348330914369   | 1854|3789 | Populasi awal\n",
      "    0.9031567489114659   | 1950|3789 | Populasi awal\n",
      "    0.8906748911465892   | 1868|3789 | Populasi awal\n",
      "    0.9041908563134979   | 1890|3789 | Populasi awal\n",
      "    0.927177068214804    | 3789|3789 | Populasi awal\n",
      "-------------------------\n",
      "Generasi ke 2 [-]\n",
      "  ____________________________________________\n",
      "     Nilai Fitness       |Fitur|ALL  |Generasi\n",
      "    0.927177068214804    | 3789|3789 | 2\n",
      "    0.926233671988389    | 2856|3789 | 2\n",
      "    0.9242924528301886   | 2841|3789 | 2\n",
      "    0.922441944847605    | 2869|3789 | 2\n",
      "    0.9223875181422352   | 2840|3789 | 2\n",
      "    0.9223693759071117   | 2887|3789 | 2\n",
      "    0.9205188679245282   | 2839|3789 | 2\n",
      "    0.9205007256894049   | 2825|3789 | 2\n",
      "    0.9204825834542815   | 2885|3789 | 2\n",
      "    0.9195210449927428   | 2866|3789 | 2\n",
      "    0.9186139332365746   | 2849|3789 | 2\n",
      "    0.917597968069666    | 2823|3789 | 2\n",
      "    0.9175798258345427   | 1893|3789 | 2\n",
      "    0.9165820029027575   | 2796|3789 | 2\n",
      "    0.9165820029027574   | 1933|3789 | 2\n",
      "    0.9156567489114659   | 2821|3789 | 2\n",
      "    0.9147133526850508   | 1861|3789 | 2\n",
      "    0.9147133526850508   | 2862|3789 | 2\n",
      "    0.9138062409288823   | 1907|3789 | 2\n",
      "    0.9137699564586356   | 2866|3789 | 2\n",
      "    0.9137518142235121   | 1926|3789 | 2\n",
      "    0.9137155297532656   | 1907|3789 | 2\n",
      "    0.9128265602322205   | 1927|3789 | 2\n",
      "    0.9127902757619738   | 1931|3789 | 2\n",
      "    0.9127721335268504   | 1921|3789 | 2\n",
      "    0.9117924528301886   | 2787|3789 | 2\n",
      "    0.9117924528301886   | 2833|3789 | 2\n",
      "    0.910867198838897    | 1885|3789 | 2\n",
      "    0.910867198838897    | 2826|3789 | 2\n",
      "    0.9108671988388968   | 2843|3789 | 2\n",
      "    0.9099419448476054   | 1931|3789 | 2\n",
      "    0.9098693759071118   | 1875|3789 | 2\n",
      "    0.9090166908563134   | 1934|3789 | 2\n",
      "    0.9089441219158202   | 1891|3789 | 2\n",
      "    0.9080732946298984   | 1920|3789 | 2\n",
      "    0.9080007256894049   | 1881|3789 | 2\n",
      "    0.9070391872278663   | 2836|3789 | 2\n",
      "    0.9070391872278663   | 1884|3789 | 2\n",
      "    0.9070029027576197   | 2823|3789 | 2\n",
      "    0.9060957910014512   | 1894|3789 | 2\n",
      "    0.9060413642960814   | 1929|3789 | 2\n",
      "    0.9051523947750362   | 1873|3789 | 2\n",
      "    0.9051161103047894   | 1874|3789 | 2\n",
      "    0.9050979680696664   | 1851|3789 | 2\n",
      "    0.9041908563134979   | 1890|3789 | 2\n",
      "    0.9041727140783745   | 1852|3789 | 2\n",
      "    0.9032837445573293   | 1912|3789 | 2\n",
      "    0.9032293178519593   | 1897|3789 | 2\n",
      "    0.9031567489114659   | 1950|3789 | 2\n",
      "    0.9022677793904208   | 1879|3789 | 2\n",
      "    0.9022496371552975   | 1943|3789 | 2\n",
      "-------------------------\n",
      "Generasi ke 3 [-]\n",
      "  ____________________________________________\n",
      "     Nilai Fitness       |Fitur|ALL  |Generasi\n",
      "    0.9348149492017417   | 2837|3789 | 3\n",
      "    0.9300979680696659   | 2846|3789 | 3\n",
      "    0.927177068214804    | 3789|3789 | 3\n",
      "    0.9262518142235123   | 2799|3789 | 3\n",
      "    0.9262518142235121   | 2831|3789 | 3\n",
      "    0.926233671988389    | 2856|3789 | 3\n",
      "    0.9262155297532655   | 2372|3789 | 3\n",
      "    0.9261792452830189   | 3545|3789 | 3\n",
      "    0.925308417997097    | 2837|3789 | 3\n",
      "    0.9252902757619736   | 3295|3789 | 3\n",
      "    0.9252177068214804   | 2897|3789 | 3\n",
      "    0.9243287373004353   | 2370|3789 | 3\n",
      "    0.9243287373004352   | 3312|3789 | 3\n",
      "    0.9242924528301886   | 2841|3789 | 3\n",
      "    0.9242743105950652   | 3317|3789 | 3\n",
      "    0.9233490566037734   | 3321|3789 | 3\n",
      "    0.9233127721335268   | 2790|3789 | 3\n",
      "    0.9224963715529751   | 2383|3789 | 3\n",
      "    0.922441944847605    | 2869|3789 | 3\n",
      "    0.9224238026124818   | 2826|3789 | 3\n",
      "    0.9223875181422352   | 2840|3789 | 3\n",
      "    0.9223875181422351   | 3297|3789 | 3\n",
      "    0.9223693759071117   | 2887|3789 | 3\n",
      "    0.9223512336719883   | 3561|3789 | 3\n",
      "    0.9223512336719883   | 3319|3789 | 3\n",
      "    0.9214622641509432   | 2869|3789 | 3\n",
      "    0.9214078374455733   | 2827|3789 | 3\n",
      "    0.9205188679245282   | 2839|3789 | 3\n",
      "    0.9205007256894049   | 2825|3789 | 3\n",
      "    0.9205007256894049   | 2863|3789 | 3\n",
      "    0.9204825834542815   | 2885|3789 | 3\n",
      "    0.9204462989840346   | 2831|3789 | 3\n",
      "    0.9195754716981132   | 2847|3789 | 3\n",
      "    0.9195210449927428   | 2866|3789 | 3\n",
      "    0.9195029027576197   | 2851|3789 | 3\n",
      "    0.9186139332365746   | 2849|3789 | 3\n",
      "    0.9176523947750364   | 2331|3789 | 3\n",
      "    0.9176342525399127   | 2368|3789 | 3\n",
      "    0.9176161103047894   | 2807|3789 | 3\n",
      "    0.917597968069666    | 2823|3789 | 3\n",
      "    0.9175798258345427   | 1893|3789 | 3\n",
      "    0.9175616835994195   | 2854|3789 | 3\n",
      "    0.9167089985486211   | 2867|3789 | 3\n",
      "    0.9166364296081275   | 3306|3789 | 3\n",
      "    0.9166182873730044   | 2853|3789 | 3\n",
      "    0.9166182873730042   | 2840|3789 | 3\n",
      "    0.9165820029027575   | 2856|3789 | 3\n",
      "    0.9165820029027575   | 2796|3789 | 3\n",
      "    0.9165820029027574   | 1933|3789 | 3\n",
      "    0.9156567489114659   | 2821|3789 | 3\n",
      "    0.9156567489114659   | 1881|3789 | 3\n",
      "-------------------------\n",
      "Generasi ke 4 [-]\n",
      "  ____________________________________________\n",
      "     Nilai Fitness       |Fitur|ALL  |Generasi\n",
      "    0.9348149492017417   | 2837|3789 | 4\n",
      "    0.931966618287373    | 3553|3789 | 4\n",
      "    0.9309687953555876   | 3295|3789 | 4\n",
      "    0.9300979680696659   | 2846|3789 | 4\n",
      "    0.9300979680696659   | 3308|3789 | 4\n",
      "    0.9300798258345429   | 2876|3789 | 4\n",
      "    0.9300616835994194   | 2385|3789 | 4\n",
      "    0.9300435413642958   | 3101|3789 | 4\n",
      "    0.9291182873730042   | 3312|3789 | 4\n",
      "    0.9291182873730042   | 3324|3789 | 4\n",
      "    0.929100145137881    | 3533|3789 | 4\n",
      "    0.929100145137881    | 3181|3789 | 4\n",
      "    0.9290638606676342   | 3677|3789 | 4\n",
      "    0.9281386066763426   | 2823|3789 | 4\n",
      "    0.928120464441219    | 3286|3789 | 4\n",
      "    0.928120464441219    | 3611|3789 | 4\n",
      "    0.9271952104499273   | 3310|3789 | 4\n",
      "    0.927177068214804    | 3789|3789 | 4\n",
      "    0.9271770682148037   | 3318|3789 | 4\n",
      "    0.9271770682148037   | 3310|3789 | 4\n",
      "    0.9271589259796805   | 3606|3789 | 4\n",
      "    0.9271226415094338   | 3297|3789 | 4\n",
      "    0.9262518142235123   | 2799|3789 | 4\n",
      "    0.9262518142235121   | 2831|3789 | 4\n",
      "    0.926233671988389    | 2856|3789 | 4\n",
      "    0.9262336719883889   | 3093|3789 | 4\n",
      "    0.9262336719883889   | 2834|3789 | 4\n",
      "    0.9262155297532655   | 2372|3789 | 4\n",
      "    0.9261973875181422   | 2851|3789 | 4\n",
      "    0.926197387518142    | 3122|3789 | 4\n",
      "    0.9261792452830189   | 3545|3789 | 4\n",
      "    0.9261792452830188   | 2795|3789 | 4\n",
      "    0.9261611030478955   | 2881|3789 | 4\n",
      "    0.9253265602322204   | 2798|3789 | 4\n",
      "    0.925308417997097    | 2837|3789 | 4\n",
      "    0.9252902757619739   | 3044|3789 | 4\n",
      "    0.9252902757619736   | 3295|3789 | 4\n",
      "    0.9252721335268503   | 2845|3789 | 4\n",
      "    0.9252539912917271   | 2827|3789 | 4\n",
      "    0.9252539912917271   | 3331|3789 | 4\n",
      "    0.9252539912917269   | 3455|3789 | 4\n",
      "    0.9252539912917269   | 3357|3789 | 4\n",
      "    0.9252358490566037   | 3284|3789 | 4\n",
      "    0.9252177068214804   | 2897|3789 | 4\n",
      "    0.9243287373004353   | 2370|3789 | 4\n",
      "    0.9243287373004352   | 3312|3789 | 4\n",
      "    0.9242924528301886   | 2841|3789 | 4\n",
      "    0.9242743105950652   | 3317|3789 | 4\n",
      "    0.9242743105950652   | 3327|3789 | 4\n",
      "    0.9242743105950652   | 2778|3789 | 4\n",
      "    0.9233490566037735   | 3545|3789 | 4\n",
      "-------------------------\n",
      "Generasi ke 5 [-]\n",
      "  ____________________________________________\n",
      "     Nilai Fitness       |Fitur|ALL  |Generasi\n"
     ]
    }
   ],
   "source": [
    "hasil_seleksi = fs.features_selection(corpus, label,  \n",
    "                                      jumlah_populasi=jumlah_populasi,\n",
    "                                      jumlah_titik=jumlah_titik, \n",
    "                                      pm=prob_mutasi, pc=pc,\n",
    "                                      alpha=alpha,\n",
    "                                      target=target, \n",
    "                                      panjang_fitur=panjang_fitur,\n",
    "                                      fitur=fitur, \n",
    "                                      metode=metode ,\n",
    "                                      additional_child=False,\n",
    "                                      gen_size=gen_size,\n",
    "                                      K=K,\n",
    "                                      parent_selection=True\n",
    "#                                       digit_tampil=len(\"Fitness\")-len('  ')\n",
    "                                     )"
   ]
  },
  {
   "cell_type": "code",
   "execution_count": 9,
   "metadata": {},
   "outputs": [
    {
     "name": "stdout",
     "output_type": "stream",
     "text": [
      "0.9367765567765568\n",
      "['0' '00' '000' ... 'zalora' 'zarkasi' 'zona']\n"
     ]
    }
   ],
   "source": [
    "print(hasil_seleksi['best_score'])\n",
    "print(hasil_seleksi['best_fitur'])\n",
    "# print(hasil_seleksi['good_fitur'])"
   ]
  },
  {
   "cell_type": "code",
   "execution_count": 24,
   "metadata": {},
   "outputs": [],
   "source": [
    "# import json\n",
    "# hasil_seleksi_ = hasil_seleksi\n",
    "# hasil_seleksi_['best_fitur'] = hasil_seleksi_['best_fitur'].tolist()\n",
    "# hasil_seleksi_['good_fitur'] = hasil_seleksi_['good_fitur'].tolist()\n",
    "# hasil_seleksi_['best_fitur_bin'] = hasil_seleksi_['best_fitur_bin'].tolist()\n",
    "# hasil_seleksi_['good_fitur_bin'] = hasil_seleksi_['good_fitur_bin'].tolist()\n",
    "\n",
    "# with open(str(\"fitur/\"+hasil_seleksi['best_score'])+\".json\", \"w\") as f:\n",
    "#     json.dump(hasil_seleksi_, f)"
   ]
  },
  {
   "cell_type": "code",
   "execution_count": null,
   "metadata": {},
   "outputs": [],
   "source": []
  },
  {
   "cell_type": "markdown",
   "metadata": {},
   "source": [
    "# Klasifiasi"
   ]
  },
  {
   "cell_type": "code",
   "execution_count": 10,
   "metadata": {},
   "outputs": [],
   "source": [
    "from sklearn.feature_extraction.text import TfidfVectorizer\n",
    "vectorizer = TfidfVectorizer(vocabulary = hasil_seleksi['best_fitur'])\n",
    "model_pembobotan = vectorizer.fit(corpus)\n",
    "X = model_pembobotan.transform(corpus) #hanya data lati"
   ]
  },
  {
   "cell_type": "code",
   "execution_count": 11,
   "metadata": {},
   "outputs": [
    {
     "data": {
      "text/plain": [
       "100"
      ]
     },
     "execution_count": 11,
     "metadata": {},
     "output_type": "execute_result"
    }
   ],
   "source": [
    "from sklearn.naive_bayes import MultinomialNB\n",
    "clf = MultinomialNB()\n",
    "clf.fit(X, label)\n",
    "hasil_prediksi = clf.predict(model_pembobotan.transform(corpusU))\n",
    "len(hasil_prediksi)"
   ]
  },
  {
   "cell_type": "code",
   "execution_count": 12,
   "metadata": {},
   "outputs": [],
   "source": [
    "import joblib\n",
    "\n"
   ]
  },
  {
   "cell_type": "markdown",
   "metadata": {},
   "source": [
    "# Confussion Matrix (classification_report)"
   ]
  },
  {
   "cell_type": "code",
   "execution_count": 13,
   "metadata": {},
   "outputs": [
    {
     "name": "stdout",
     "output_type": "stream",
     "text": [
      "              precision    recall  f1-score   support\n",
      "\n",
      "       fraud       0.96      0.85      0.90        26\n",
      "       promo       0.92      0.96      0.94        25\n",
      "      normal       0.96      1.00      0.98        49\n",
      "\n",
      "    accuracy                           0.95       100\n",
      "   macro avg       0.95      0.94      0.94       100\n",
      "weighted avg       0.95      0.95      0.95       100\n",
      "\n"
     ]
    }
   ],
   "source": [
    "from sklearn.metrics import classification_report\n",
    "y_true = labelU\n",
    "y_pred = hasil_prediksi\n",
    "\n",
    "print(classification_report(y_true, y_pred, labels=list(set(y_true))))"
   ]
  },
  {
   "cell_type": "code",
   "execution_count": null,
   "metadata": {},
   "outputs": [],
   "source": []
  }
 ],
 "metadata": {
  "kernelspec": {
   "display_name": "Python 3",
   "language": "python",
   "name": "python3"
  },
  "language_info": {
   "codemirror_mode": {
    "name": "ipython",
    "version": 3
   },
   "file_extension": ".py",
   "mimetype": "text/x-python",
   "name": "python",
   "nbconvert_exporter": "python",
   "pygments_lexer": "ipython3",
   "version": "3.7.3"
  }
 },
 "nbformat": 4,
 "nbformat_minor": 2
}
