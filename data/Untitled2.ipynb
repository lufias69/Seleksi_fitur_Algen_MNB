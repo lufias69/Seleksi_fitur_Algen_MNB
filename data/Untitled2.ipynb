{
 "cells": [
  {
   "cell_type": "code",
   "execution_count": 1,
   "metadata": {},
   "outputs": [],
   "source": []
  },
  {
   "cell_type": "code",
   "execution_count": 3,
   "metadata": {},
   "outputs": [],
   "source": [
    "import pandas as pd\n",
    "from Lib import Algen_lib as lb"
   ]
  },
  {
   "cell_type": "markdown",
   "metadata": {},
   "source": [
    "# Import Data"
   ]
  },
  {
   "cell_type": "code",
   "execution_count": 4,
   "metadata": {},
   "outputs": [],
   "source": [
    "#Data Latih\n",
    "df = pd.read_excel('dataset_sms_spam _v1.xlsx')\n",
    "corpus = df.Teks.tolist()\n",
    "label = df.label.tolist()"
   ]
  },
  {
   "cell_type": "code",
   "execution_count": 5,
   "metadata": {},
   "outputs": [],
   "source": [
    "#Data Uji\n",
    "corpusU = corpus\n",
    "labelU = label"
   ]
  },
  {
   "cell_type": "markdown",
   "metadata": {},
   "source": [
    "# Seleksi Fitur Algoritma Genetika"
   ]
  },
  {
   "cell_type": "code",
   "execution_count": 11,
   "metadata": {},
   "outputs": [
    {
     "name": "stdout",
     "output_type": "stream",
     "text": [
      "Generasi ke 1\n"
     ]
    },
    {
     "ename": "NameError",
     "evalue": "name 'p4p' is not defined",
     "output_type": "error",
     "traceback": [
      "\u001b[1;31m---------------------------------------------------------------------------\u001b[0m",
      "\u001b[1;31mNameError\u001b[0m                                 Traceback (most recent call last)",
      "\u001b[1;32m<ipython-input-11-efe439494bef>\u001b[0m in \u001b[0;36m<module>\u001b[1;34m\u001b[0m\n\u001b[0;32m     47\u001b[0m         \u001b[0mpapa_index\u001b[0m \u001b[1;33m=\u001b[0m \u001b[0mp\u001b[0m\u001b[1;33m[\u001b[0m\u001b[1;36m1\u001b[0m\u001b[1;33m]\u001b[0m\u001b[1;33m\u001b[0m\u001b[1;33m\u001b[0m\u001b[0m\n\u001b[0;32m     48\u001b[0m         \u001b[0mm4m\u001b[0m \u001b[1;33m=\u001b[0m \u001b[0mfitnes_pop\u001b[0m\u001b[1;33m[\u001b[0m\u001b[0mmama_index\u001b[0m\u001b[1;33m]\u001b[0m\u001b[1;33m\u001b[0m\u001b[1;33m\u001b[0m\u001b[0m\n\u001b[1;32m---> 49\u001b[1;33m         \u001b[0mfamily_fitness\u001b[0m\u001b[1;33m.\u001b[0m\u001b[0mappend\u001b[0m\u001b[1;33m(\u001b[0m\u001b[0mp4p\u001b[0m\u001b[1;33m)\u001b[0m\u001b[1;33m\u001b[0m\u001b[1;33m\u001b[0m\u001b[0m\n\u001b[0m\u001b[0;32m     50\u001b[0m         \u001b[0mm4m\u001b[0m \u001b[1;33m=\u001b[0m \u001b[0mpop\u001b[0m\u001b[1;33m[\u001b[0m\u001b[0mmama_index\u001b[0m\u001b[1;33m]\u001b[0m\u001b[1;33m\u001b[0m\u001b[1;33m\u001b[0m\u001b[0m\n\u001b[0;32m     51\u001b[0m         \u001b[0mfamily_fitur\u001b[0m\u001b[1;33m.\u001b[0m\u001b[0mappend\u001b[0m\u001b[1;33m(\u001b[0m\u001b[0mm4m\u001b[0m\u001b[1;33m)\u001b[0m\u001b[1;33m\u001b[0m\u001b[1;33m\u001b[0m\u001b[0m\n",
      "\u001b[1;31mNameError\u001b[0m: name 'p4p' is not defined"
     ]
    }
   ],
   "source": [
    "jumlah_populasi = 500\n",
    "jumlah_point = 1000 #crossover\n",
    "prob_mutasi = 0.7 #probabilitas permutasi\n",
    "\n",
    "metode = \"tfidf\"\n",
    "alpha = 1\n",
    "\n",
    "target = 0.99 #target akurasi\n",
    "\n",
    "fitur = lb.feature_extraction(corpus)\n",
    "panjang_fitur = len(fitur)\n",
    "\n",
    "# features_bin = [1 for i in range(panjang_fitur)]\n",
    "\n",
    "t_fitness = list()\n",
    "t_features = list()\n",
    "\n",
    "pop = lb.create_population(jumlah_populasi, panjang_fitur)\n",
    "\n",
    "fitnes_pop = list()\n",
    "temp_features_fitness = list()\n",
    "for features_bin in pop:\n",
    "    fns = lb.fitness_(corpus,label, corpusU,labelU, features_bin, fitur, alpha = alpha, metode = metode)\n",
    "    fitnes_pop.append(fns)\n",
    "    temp_features_fitness.append([fns, features_bin])\n",
    "# parents\n",
    "best_fitur_list = list()\n",
    "best_fitness_list = list()\n",
    "best_generasi_list = list()\n",
    "\n",
    "for_cek = list()\n",
    "gen=0\n",
    "while True:\n",
    "    gen+=1\n",
    "    print(\"Generasi ke\",gen)\n",
    "    rw = lb.get_roulette_wheel_(fitnes_pop, inc=jumlah_populasi)\n",
    "    parents = lb.select_parents(rw)\n",
    "\n",
    "    best_fitur_list_per_generasi = list()\n",
    "    best_fitness_list_per_generasi = list()\n",
    "    for p in parents:\n",
    "        best_generasi_list.append(gen)\n",
    "        family_fitness=list()\n",
    "        family_fitur=list()\n",
    "\n",
    "        mama_index = p[0]\n",
    "        papa_index = p[1]\n",
    "        m4m = fitnes_pop[mama_index]\n",
    "        family_fitness.append(p4p)\n",
    "        m4m = pop[mama_index]\n",
    "        family_fitur.append(m4m)\n",
    "        \n",
    "        p4p = fitnes_pop[papa_index]\n",
    "        family_fitness.append(p4p)\n",
    "        p4p = pop[papa_index]\n",
    "        family_fitur.append(p4p)\n",
    "        \n",
    "        #crossover\n",
    "        anak_binary = lb.crossover(mama_index, papa_index, panjang_fitur, pop=pop, jumlah_point = jumlah_point, prob_mutasi = prob_mutasi)\n",
    "        #mencari fitness untuk child\n",
    "        anak = lb.get_fitness_child(anak_binary, corpus,label, corpusU,labelU, fitur, alpha = alpha, metode = metode, pop=pop)\n",
    "        for i in anak:\n",
    "            family_fitur.append(i[0])\n",
    "            family_fitness.append(i[1])\n",
    "        best_family_fitness = max(family_fitness)\n",
    "        bf_index = family_fitness.index(best_family_fitness)\n",
    "        best_family_fitur = family_fitur[bf_index]\n",
    "\n",
    "        best_fitness_list.append(best_family_fitness)\n",
    "        best_fitur_list.append(best_family_fitur)\n",
    "\n",
    "        best_fitness_list_per_generasi.append(best_family_fitness)\n",
    "        best_fitur_list_per_generasi.append(best_family_fitur)\n",
    "\n",
    "        print(\"   \",best_family_fitness)\n",
    "        print(\"   \",\"*\"*50,gen)\n",
    "\n",
    "    pop = list(best_fitur_list_per_generasi)\n",
    "    fitnes_pop = list(best_fitness_list_per_generasi)\n",
    "\n",
    "    if len(pop)<4 or max(best_fitness_list)>=target:\n",
    "        print(\"=\"*100)\n",
    "        print(\"Best\",max(best_fitness_list))\n",
    "#         print(\"Generasi ke-\",best_generasi_list[best_fitness_list.index(max(best_fitness_list))])\n",
    "        good_fitur = best_fitur_list[best_fitness_list.index(max(best_fitness_list))]\n",
    "        best_fitness_list.index(max(best_fitness_list))\n",
    "        print('jumlah fitur     ', sum(good_fitur))\n",
    "        print('jumlah fitur asli', panjang_fitur)\n",
    "        print('good_fitur')\n",
    "        break"
   ]
  },
  {
   "cell_type": "code",
   "execution_count": 10,
   "metadata": {},
   "outputs": [
    {
     "data": {
      "text/plain": [
       "0.9405074365704287"
      ]
     },
     "execution_count": 10,
     "metadata": {},
     "output_type": "execute_result"
    }
   ],
   "source": [
    "lb.fitness_(corpus,label, corpusU,labelU, good_fitur, fitur, alpha = alpha, metode = metode)"
   ]
  },
  {
   "cell_type": "code",
   "execution_count": null,
   "metadata": {},
   "outputs": [],
   "source": []
  }
 ],
 "metadata": {
  "kernelspec": {
   "display_name": "Python 3",
   "language": "python",
   "name": "python3"
  },
  "language_info": {
   "codemirror_mode": {
    "name": "ipython",
    "version": 3
   },
   "file_extension": ".py",
   "mimetype": "text/x-python",
   "name": "python",
   "nbconvert_exporter": "python",
   "pygments_lexer": "ipython3",
   "version": "3.7.4"
  }
 },
 "nbformat": 4,
 "nbformat_minor": 2
}
